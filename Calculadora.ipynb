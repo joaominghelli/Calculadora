{
  "nbformat": 4,
  "nbformat_minor": 0,
  "metadata": {
    "colab": {
      "provenance": []
    },
    "kernelspec": {
      "name": "python3",
      "display_name": "Python 3"
    },
    "language_info": {
      "name": "python"
    }
  },
  "cells": [
    {
      "cell_type": "code",
      "execution_count": 53,
      "metadata": {
        "colab": {
          "base_uri": "https://localhost:8080/"
        },
        "id": "QeZZEOIFgjVS",
        "outputId": "34b693ea-e24c-480a-e839-b5a91a3cd3e7"
      },
      "outputs": [
        {
          "output_type": "stream",
          "name": "stdout",
          "text": [
            "Selecione a operação desejada:\n",
            "1 - Adição\n",
            "2 - Subtração\n",
            "3 - Multiplicação\n",
            "4 - Divisão\n",
            "5 - Potencialização\n",
            "6 - Sair\n",
            "Digite a operação desejada:7\n",
            "Esta opção não está disponivel\n",
            "Selecione a operação desejada:\n",
            "1 - Adição\n",
            "2 - Subtração\n",
            "3 - Multiplicação\n",
            "4 - Divisão\n",
            "5 - Potencialização\n",
            "6 - Sair\n",
            "Digite a operação desejada:6\n",
            "Fechando o programa.\n"
          ]
        }
      ],
      "source": [
        "def calcular():\n",
        "    while True:\n",
        "     print('Selecione a operação desejada:')\n",
        "     print('1 - Adição')\n",
        "     print('2 - Subtração')\n",
        "     print('3 - Multiplicação')\n",
        "     print('4 - Divisão')\n",
        "     print('5 - Potencialização')\n",
        "     print('6 - Sair')\n",
        "\n",
        "     operacao = input('Digite a operação desejada:')\n",
        "\n",
        "     if operacao in ('1', '2', '3', '4', '5'):\n",
        "         num1 = float(input('Digite o primeiro número: '))\n",
        "         num2 = float(input('Digite o segundo número: '))\n",
        "\n",
        "         if operacao == '1':\n",
        "             resultado = num1 + num2\n",
        "             print(f'{num1} + {num2} = {resultado}')\n",
        "\n",
        "         elif operacao == '2':\n",
        "               resultado = num1 - num2\n",
        "               print(f'{num1} - {num2} = {resultado}')\n",
        "\n",
        "         elif operacao == '3':\n",
        "             resultado = num1 * num2\n",
        "             print(f'{num1} * {num2} = {resultado}')\n",
        "\n",
        "         elif operacao == '4':\n",
        "             if num2 != 0:\n",
        "                resultado = num1 / num2\n",
        "                print(f'{num1} / {num2} = {resultado}')\n",
        "             else:\n",
        "               print('Este programa não aceita divisões por 0')\n",
        "\n",
        "         elif operacao == '5':\n",
        "              resultado = num1 ** num2\n",
        "              print(f'{num1} ** {num2} = {resultado}')\n",
        "\n",
        "\n",
        "     elif operacao == '6':\n",
        "        print('Fechando o programa.')\n",
        "        break\n",
        "\n",
        "\n",
        "\n",
        "     else:\n",
        "        print('Esta opção não está disponivel')\n",
        "\n",
        "\n",
        "\n",
        "if __name__ == \"__main__\":\n",
        "    calcular()"
      ]
    }
  ]
}